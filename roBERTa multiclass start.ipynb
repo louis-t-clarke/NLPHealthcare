{
 "cells": [
  {
   "cell_type": "code",
   "execution_count": 1,
   "metadata": {},
   "outputs": [
    {
     "name": "stderr",
     "output_type": "stream",
     "text": [
      "c:\\Users\\Louis\\anaconda3\\envs\\contest2\\lib\\site-packages\\tqdm\\auto.py:22: TqdmWarning: IProgress not found. Please update jupyter and ipywidgets. See https://ipywidgets.readthedocs.io/en/stable/user_install.html\n",
      "  from .autonotebook import tqdm as notebook_tqdm\n"
     ]
    }
   ],
   "source": [
    "from datasets import load_dataset, DatasetDict, Dataset"
   ]
  },
  {
   "cell_type": "code",
   "execution_count": 2,
   "metadata": {},
   "outputs": [
    {
     "name": "stderr",
     "output_type": "stream",
     "text": [
      "Using custom data configuration default-d63da264504a44e4\n",
      "Found cached dataset csv (C:/Users/Louis/.cache/huggingface/datasets/csv/default-d63da264504a44e4/0.0.0/6b34fb8fcf56f7c8ba51dc895bfa2bfbe43546f190a60fcf74bb5e8afdcc2317)\n",
      "100%|██████████| 2/2 [00:00<00:00, 28.65it/s]\n"
     ]
    }
   ],
   "source": [
    "origdat = load_dataset('csv', data_files={\n",
    "    'train': \"C:/Users/Louis/OneDrive/Documents/Oxford/Maths/Dissertation/train.csv\",\n",
    "    'test': \"C:/Users/Louis/OneDrive/Documents/Oxford/Maths/Dissertation/valid.csv\"\n",
    "    }\n",
    ")\n"
   ]
  },
  {
   "cell_type": "code",
   "execution_count": 3,
   "metadata": {},
   "outputs": [
    {
     "data": {
      "text/plain": [
       "DatasetDict({\n",
       "    train: Dataset({\n",
       "        features: ['text', 'label', 'triage-category'],\n",
       "        num_rows: 9559\n",
       "    })\n",
       "    test: Dataset({\n",
       "        features: ['text', 'label', 'triage-category'],\n",
       "        num_rows: 3114\n",
       "    })\n",
       "})"
      ]
     },
     "execution_count": 3,
     "metadata": {},
     "output_type": "execute_result"
    }
   ],
   "source": [
    "origdat"
   ]
  },
  {
   "cell_type": "code",
   "execution_count": 4,
   "metadata": {},
   "outputs": [
    {
     "data": {
      "text/html": [
       "<div>\n",
       "<style scoped>\n",
       "    .dataframe tbody tr th:only-of-type {\n",
       "        vertical-align: middle;\n",
       "    }\n",
       "\n",
       "    .dataframe tbody tr th {\n",
       "        vertical-align: top;\n",
       "    }\n",
       "\n",
       "    .dataframe thead th {\n",
       "        text-align: right;\n",
       "    }\n",
       "</style>\n",
       "<table border=\"1\" class=\"dataframe\">\n",
       "  <thead>\n",
       "    <tr style=\"text-align: right;\">\n",
       "      <th></th>\n",
       "      <th>text</th>\n",
       "      <th>label</th>\n",
       "      <th>triage-category</th>\n",
       "    </tr>\n",
       "  </thead>\n",
       "  <tbody>\n",
       "    <tr>\n",
       "      <th>0</th>\n",
       "      <td>: : : Sex: F Service: CARDIOTHORACIC Allergies: Patient recorded as having N...</td>\n",
       "      <td>4240</td>\n",
       "      <td>Cardiology</td>\n",
       "    </tr>\n",
       "    <tr>\n",
       "      <th>1</th>\n",
       "      <td>: : : Sex: F Service: NEONATOLOGY HISTORY: week gestation age female, admitt...</td>\n",
       "      <td>V3001</td>\n",
       "      <td>Obstetrics</td>\n",
       "    </tr>\n",
       "    <tr>\n",
       "      <th>2</th>\n",
       "      <td>: : : Sex: M Service: CARDIOTHORACIC Allergies: Patient recorded as having N...</td>\n",
       "      <td>41041</td>\n",
       "      <td>Cardiology</td>\n",
       "    </tr>\n",
       "    <tr>\n",
       "      <th>3</th>\n",
       "      <td>: : : Sex: F Service: MEDICINE Allergies: Penicillins / Ativan / Metformin :...</td>\n",
       "      <td>51881</td>\n",
       "      <td>Respiratory</td>\n",
       "    </tr>\n",
       "    <tr>\n",
       "      <th>4</th>\n",
       "      <td>: : : Sex: M Service: ADMISSION DIAGNOSIS: . Shortness of breath and chest t...</td>\n",
       "      <td>41401</td>\n",
       "      <td>Cardiology</td>\n",
       "    </tr>\n",
       "  </tbody>\n",
       "</table>\n",
       "</div>"
      ],
      "text/plain": [
       "                                                                              text  \\\n",
       "0  : : : Sex: F Service: CARDIOTHORACIC Allergies: Patient recorded as having N...   \n",
       "1  : : : Sex: F Service: NEONATOLOGY HISTORY: week gestation age female, admitt...   \n",
       "2  : : : Sex: M Service: CARDIOTHORACIC Allergies: Patient recorded as having N...   \n",
       "3  : : : Sex: F Service: MEDICINE Allergies: Penicillins / Ativan / Metformin :...   \n",
       "4  : : : Sex: M Service: ADMISSION DIAGNOSIS: . Shortness of breath and chest t...   \n",
       "\n",
       "   label triage-category  \n",
       "0   4240      Cardiology  \n",
       "1  V3001      Obstetrics  \n",
       "2  41041      Cardiology  \n",
       "3  51881     Respiratory  \n",
       "4  41401      Cardiology  "
      ]
     },
     "execution_count": 4,
     "metadata": {},
     "output_type": "execute_result"
    }
   ],
   "source": [
    "import pandas as pd\n",
    "#pd.set_option('display.max_colwidth', -1)\n",
    "pd.set_option('display.max_colwidth', 80)\n",
    "\n",
    "origdat.set_format(type=\"pandas\")\n",
    "df = origdat[\"train\"][:]\n",
    "dfval = origdat[\"test\"][:]\n",
    "df.head()"
   ]
  },
  {
   "cell_type": "code",
   "execution_count": 5,
   "metadata": {},
   "outputs": [
    {
     "data": {
      "image/png": "[encoded data removed]",
      "text/plain": [
       "<Figure size 640x480 with 1 Axes>"
      ]
     },
     "metadata": {},
     "output_type": "display_data"
    }
   ],
   "source": [
    "import matplotlib.pyplot as plt\n",
    "\n",
    "df[\"triage-category\"].value_counts(ascending=True).plot.barh()\n",
    "plt.title(\"Frequency of Classes\")\n",
    "plt.show()"
   ]
  },
  {
   "cell_type": "code",
   "execution_count": 6,
   "metadata": {},
   "outputs": [
    {
     "data": {
      "image/png": "[encoded data removed]",
      "text/plain": [
       "<Figure size 640x480 with 1 Axes>"
      ]
     },
     "metadata": {},
     "output_type": "display_data"
    }
   ],
   "source": [
    "df[\"Words Per Note\"] = df[\"text\"].str.split().apply(len)\n",
    "df.boxplot(\"Words Per Note\", by=\"triage-category\", grid=False,\n",
    "          showfliers=False, color=\"black\")\n",
    "plt.suptitle(\"\")\n",
    "plt.xlabel(\"\")\n",
    "plt.xticks(\n",
    "    rotation=45, \n",
    "    horizontalalignment='right',\n",
    "    fontweight='light',\n",
    "    fontsize='x-large'  \n",
    ")\n",
    "plt.show()"
   ]
  },
  {
   "cell_type": "code",
   "execution_count": 7,
   "metadata": {},
   "outputs": [
    {
     "data": {
      "text/html": [
       "<div>\n",
       "<style scoped>\n",
       "    .dataframe tbody tr th:only-of-type {\n",
       "        vertical-align: middle;\n",
       "    }\n",
       "\n",
       "    .dataframe tbody tr th {\n",
       "        vertical-align: top;\n",
       "    }\n",
       "\n",
       "    .dataframe thead th {\n",
       "        text-align: right;\n",
       "    }\n",
       "</style>\n",
       "<table border=\"1\" class=\"dataframe\">\n",
       "  <thead>\n",
       "    <tr style=\"text-align: right;\">\n",
       "      <th></th>\n",
       "      <th>text</th>\n",
       "      <th>label</th>\n",
       "      <th>triage-category</th>\n",
       "      <th>Words Per Note</th>\n",
       "      <th>class</th>\n",
       "    </tr>\n",
       "  </thead>\n",
       "  <tbody>\n",
       "    <tr>\n",
       "      <th>0</th>\n",
       "      <td>: : : Sex: F Service: CARDIOTHORACIC Allergies: Patient recorded as having N...</td>\n",
       "      <td>4240</td>\n",
       "      <td>Cardiology</td>\n",
       "      <td>1525</td>\n",
       "      <td>1</td>\n",
       "    </tr>\n",
       "    <tr>\n",
       "      <th>1</th>\n",
       "      <td>: : : Sex: F Service: NEONATOLOGY HISTORY: week gestation age female, admitt...</td>\n",
       "      <td>V3001</td>\n",
       "      <td>Obstetrics</td>\n",
       "      <td>907</td>\n",
       "      <td>4</td>\n",
       "    </tr>\n",
       "    <tr>\n",
       "      <th>2</th>\n",
       "      <td>: : : Sex: M Service: CARDIOTHORACIC Allergies: Patient recorded as having N...</td>\n",
       "      <td>41041</td>\n",
       "      <td>Cardiology</td>\n",
       "      <td>2092</td>\n",
       "      <td>1</td>\n",
       "    </tr>\n",
       "    <tr>\n",
       "      <th>3</th>\n",
       "      <td>: : : Sex: F Service: MEDICINE Allergies: Penicillins / Ativan / Metformin :...</td>\n",
       "      <td>51881</td>\n",
       "      <td>Respiratory</td>\n",
       "      <td>1552</td>\n",
       "      <td>6</td>\n",
       "    </tr>\n",
       "    <tr>\n",
       "      <th>4</th>\n",
       "      <td>: : : Sex: M Service: ADMISSION DIAGNOSIS: . Shortness of breath and chest t...</td>\n",
       "      <td>41401</td>\n",
       "      <td>Cardiology</td>\n",
       "      <td>913</td>\n",
       "      <td>1</td>\n",
       "    </tr>\n",
       "  </tbody>\n",
       "</table>\n",
       "</div>"
      ],
      "text/plain": [
       "                                                                              text  \\\n",
       "0  : : : Sex: F Service: CARDIOTHORACIC Allergies: Patient recorded as having N...   \n",
       "1  : : : Sex: F Service: NEONATOLOGY HISTORY: week gestation age female, admitt...   \n",
       "2  : : : Sex: M Service: CARDIOTHORACIC Allergies: Patient recorded as having N...   \n",
       "3  : : : Sex: F Service: MEDICINE Allergies: Penicillins / Ativan / Metformin :...   \n",
       "4  : : : Sex: M Service: ADMISSION DIAGNOSIS: . Shortness of breath and chest t...   \n",
       "\n",
       "   label triage-category  Words Per Note  class  \n",
       "0   4240      Cardiology            1525      1  \n",
       "1  V3001      Obstetrics             907      4  \n",
       "2  41041      Cardiology            2092      1  \n",
       "3  51881     Respiratory            1552      6  \n",
       "4  41401      Cardiology             913      1  "
      ]
     },
     "execution_count": 7,
     "metadata": {},
     "output_type": "execute_result"
    }
   ],
   "source": [
    "def labelint(row):\n",
    "    if row == \"AcuteMedicine\":\n",
    "        return 0\n",
    "    if row == \"Cardiology\":\n",
    "        return 1\n",
    "    if row == \"Gastroenterology\":\n",
    "        return 2\n",
    "    if row == \"Neurology\":\n",
    "        return 3\n",
    "    if row == \"Obstetrics\":\n",
    "        return 4\n",
    "    if row == \"Oncology\":\n",
    "        return 5\n",
    "    if row == \"Respiratory\":\n",
    "        return 6\n",
    "\n",
    "df[\"class\"] = df[\"triage-category\"].apply(labelint)\n",
    "dfval[\"class\"] = dfval[\"triage-category\"].apply(labelint)\n",
    "df.head()"
   ]
  },
  {
   "cell_type": "code",
   "execution_count": 8,
   "metadata": {},
   "outputs": [
    {
     "data": {
      "text/html": [
       "<div>\n",
       "<style scoped>\n",
       "    .dataframe tbody tr th:only-of-type {\n",
       "        vertical-align: middle;\n",
       "    }\n",
       "\n",
       "    .dataframe tbody tr th {\n",
       "        vertical-align: top;\n",
       "    }\n",
       "\n",
       "    .dataframe thead th {\n",
       "        text-align: right;\n",
       "    }\n",
       "</style>\n",
       "<table border=\"1\" class=\"dataframe\">\n",
       "  <thead>\n",
       "    <tr style=\"text-align: right;\">\n",
       "      <th></th>\n",
       "      <th>text</th>\n",
       "      <th>class</th>\n",
       "    </tr>\n",
       "  </thead>\n",
       "  <tbody>\n",
       "    <tr>\n",
       "      <th>0</th>\n",
       "      <td>: : : Sex: F Service: CARDIOTHORACIC Allergies: Patient recorded as having N...</td>\n",
       "      <td>1</td>\n",
       "    </tr>\n",
       "    <tr>\n",
       "      <th>1</th>\n",
       "      <td>: : : Sex: F Service: NEONATOLOGY HISTORY: week gestation age female, admitt...</td>\n",
       "      <td>4</td>\n",
       "    </tr>\n",
       "    <tr>\n",
       "      <th>2</th>\n",
       "      <td>: : : Sex: M Service: CARDIOTHORACIC Allergies: Patient recorded as having N...</td>\n",
       "      <td>1</td>\n",
       "    </tr>\n",
       "    <tr>\n",
       "      <th>3</th>\n",
       "      <td>: : : Sex: F Service: MEDICINE Allergies: Penicillins / Ativan / Metformin :...</td>\n",
       "      <td>6</td>\n",
       "    </tr>\n",
       "    <tr>\n",
       "      <th>4</th>\n",
       "      <td>: : : Sex: M Service: ADMISSION DIAGNOSIS: . Shortness of breath and chest t...</td>\n",
       "      <td>1</td>\n",
       "    </tr>\n",
       "  </tbody>\n",
       "</table>\n",
       "</div>"
      ],
      "text/plain": [
       "                                                                              text  \\\n",
       "0  : : : Sex: F Service: CARDIOTHORACIC Allergies: Patient recorded as having N...   \n",
       "1  : : : Sex: F Service: NEONATOLOGY HISTORY: week gestation age female, admitt...   \n",
       "2  : : : Sex: M Service: CARDIOTHORACIC Allergies: Patient recorded as having N...   \n",
       "3  : : : Sex: F Service: MEDICINE Allergies: Penicillins / Ativan / Metformin :...   \n",
       "4  : : : Sex: M Service: ADMISSION DIAGNOSIS: . Shortness of breath and chest t...   \n",
       "\n",
       "   class  \n",
       "0      1  \n",
       "1      4  \n",
       "2      1  \n",
       "3      6  \n",
       "4      1  "
      ]
     },
     "execution_count": 8,
     "metadata": {},
     "output_type": "execute_result"
    }
   ],
   "source": [
    "trdf = df.drop(columns=[\"label\", \"triage-category\", \"Words Per Note\"])\n",
    "trval = dfval.drop(columns=[\"label\", \"triage-category\"])\n",
    "trdf.head()"
   ]
  },
  {
   "cell_type": "code",
   "execution_count": 9,
   "metadata": {},
   "outputs": [],
   "source": [
    "x = trdf.rename(columns={\"class\": \"label\"})\n",
    "y = trval.rename(columns={\"class\": \"label\"})"
   ]
  },
  {
   "cell_type": "code",
   "execution_count": 10,
   "metadata": {},
   "outputs": [
    {
     "data": {
      "text/html": [
       "<div>\n",
       "<style scoped>\n",
       "    .dataframe tbody tr th:only-of-type {\n",
       "        vertical-align: middle;\n",
       "    }\n",
       "\n",
       "    .dataframe tbody tr th {\n",
       "        vertical-align: top;\n",
       "    }\n",
       "\n",
       "    .dataframe thead th {\n",
       "        text-align: right;\n",
       "    }\n",
       "</style>\n",
       "<table border=\"1\" class=\"dataframe\">\n",
       "  <thead>\n",
       "    <tr style=\"text-align: right;\">\n",
       "      <th></th>\n",
       "      <th>text</th>\n",
       "      <th>label</th>\n",
       "    </tr>\n",
       "  </thead>\n",
       "  <tbody>\n",
       "    <tr>\n",
       "      <th>0</th>\n",
       "      <td>: : : Sex: F Service: CARDIOTHORACIC Allergies: Patient recorded as having N...</td>\n",
       "      <td>1</td>\n",
       "    </tr>\n",
       "    <tr>\n",
       "      <th>1</th>\n",
       "      <td>: : : Sex: F Service: NEONATOLOGY HISTORY: week gestation age female, admitt...</td>\n",
       "      <td>4</td>\n",
       "    </tr>\n",
       "    <tr>\n",
       "      <th>2</th>\n",
       "      <td>: : : Sex: M Service: CARDIOTHORACIC Allergies: Patient recorded as having N...</td>\n",
       "      <td>1</td>\n",
       "    </tr>\n",
       "    <tr>\n",
       "      <th>3</th>\n",
       "      <td>: : : Sex: F Service: MEDICINE Allergies: Penicillins / Ativan / Metformin :...</td>\n",
       "      <td>6</td>\n",
       "    </tr>\n",
       "    <tr>\n",
       "      <th>4</th>\n",
       "      <td>: : : Sex: M Service: ADMISSION DIAGNOSIS: . Shortness of breath and chest t...</td>\n",
       "      <td>1</td>\n",
       "    </tr>\n",
       "  </tbody>\n",
       "</table>\n",
       "</div>"
      ],
      "text/plain": [
       "                                                                              text  \\\n",
       "0  : : : Sex: F Service: CARDIOTHORACIC Allergies: Patient recorded as having N...   \n",
       "1  : : : Sex: F Service: NEONATOLOGY HISTORY: week gestation age female, admitt...   \n",
       "2  : : : Sex: M Service: CARDIOTHORACIC Allergies: Patient recorded as having N...   \n",
       "3  : : : Sex: F Service: MEDICINE Allergies: Penicillins / Ativan / Metformin :...   \n",
       "4  : : : Sex: M Service: ADMISSION DIAGNOSIS: . Shortness of breath and chest t...   \n",
       "\n",
       "   label  \n",
       "0      1  \n",
       "1      4  \n",
       "2      1  \n",
       "3      6  \n",
       "4      1  "
      ]
     },
     "execution_count": 10,
     "metadata": {},
     "output_type": "execute_result"
    }
   ],
   "source": [
    "x.head()"
   ]
  },
  {
   "cell_type": "code",
   "execution_count": null,
   "metadata": {},
   "outputs": [],
   "source": []
  },
  {
   "cell_type": "code",
   "execution_count": 11,
   "metadata": {},
   "outputs": [
    {
     "name": "stderr",
     "output_type": "stream",
     "text": [
      "Stringifying the column: 100%|██████████| 10/10 [00:00<00:00, 168.30ba/s]\n",
      "Casting to class labels: 100%|██████████| 10/10 [00:00<00:00, 227.07ba/s]\n",
      "Stringifying the column: 100%|██████████| 4/4 [00:00<00:00, 444.05ba/s]\n",
      "Casting to class labels: 100%|██████████| 4/4 [00:00<00:00, 363.32ba/s]\n"
     ]
    }
   ],
   "source": [
    "mimic = DatasetDict({\n",
    "    \"train\" : Dataset.from_pandas(x).class_encode_column(\"label\"), \n",
    "    \"validation\" : Dataset.from_pandas(y).class_encode_column(\"label\") \n",
    "})"
   ]
  },
  {
   "cell_type": "code",
   "execution_count": 12,
   "metadata": {},
   "outputs": [
    {
     "data": {
      "text/plain": [
       "DatasetDict({\n",
       "    train: Dataset({\n",
       "        features: ['text', 'label'],\n",
       "        num_rows: 9559\n",
       "    })\n",
       "    validation: Dataset({\n",
       "        features: ['text', 'label'],\n",
       "        num_rows: 3114\n",
       "    })\n",
       "})"
      ]
     },
     "execution_count": 12,
     "metadata": {},
     "output_type": "execute_result"
    }
   ],
   "source": [
    "mimic"
   ]
  },
  {
   "cell_type": "code",
   "execution_count": 13,
   "metadata": {},
   "outputs": [
    {
     "name": "stderr",
     "output_type": "stream",
     "text": [
      "Downloading (…)lve/main/config.json: 100%|██████████| 481/481 [00:00<00:00, 240kB/s]\n",
      "c:\\Users\\Louis\\anaconda3\\envs\\contest2\\lib\\site-packages\\huggingface_hub\\file_download.py:129: UserWarning: `huggingface_hub` cache-system uses symlinks by default to efficiently store duplicated files but your machine does not support them in C:\\Users\\Louis\\.cache\\huggingface\\hub. Caching files will still work but in a degraded version that might require more space on your disk. This warning can be disabled by setting the `HF_HUB_DISABLE_SYMLINKS_WARNING` environment variable. For more details, see https://huggingface.co/docs/huggingface_hub/how-to-cache#limitations.\n",
      "To support symlinks on Windows, you either need to activate Developer Mode or to run Python as an administrator. In order to see activate developer mode, see this article: https://docs.microsoft.com/en-us/windows/apps/get-started/enable-your-device-for-development\n",
      "  warnings.warn(message)\n",
      "Downloading (…)olve/main/vocab.json: 100%|██████████| 899k/899k [00:00<00:00, 1.38MB/s]\n",
      "Downloading (…)olve/main/merges.txt: 100%|██████████| 456k/456k [00:00<00:00, 1.16MB/s]\n",
      "Downloading (…)/main/tokenizer.json: 100%|██████████| 1.36M/1.36M [00:00<00:00, 1.77MB/s]\n"
     ]
    }
   ],
   "source": [
    "from transformers import AutoTokenizer\n",
    "\n",
    "model_ckpt = \"roberta-base\"\n",
    "tokenizer = AutoTokenizer.from_pretrained(model_ckpt)"
   ]
  },
  {
   "cell_type": "code",
   "execution_count": 14,
   "metadata": {},
   "outputs": [],
   "source": [
    "def tokenize(batch):\n",
    "    return tokenizer(batch[\"text\"], padding=True, truncation=True) #max_length=?"
   ]
  },
  {
   "cell_type": "code",
   "execution_count": 15,
   "metadata": {},
   "outputs": [
    {
     "name": "stderr",
     "output_type": "stream",
     "text": [
      "100%|██████████| 1/1 [00:08<00:00,  8.16s/ba]\n",
      "100%|██████████| 1/1 [00:02<00:00,  2.39s/ba]\n"
     ]
    }
   ],
   "source": [
    "mim_enc = mimic.map(tokenize, batched=True, batch_size=None)"
   ]
  },
  {
   "cell_type": "code",
   "execution_count": 16,
   "metadata": {},
   "outputs": [
    {
     "name": "stdout",
     "output_type": "stream",
     "text": [
      "['text', 'label', 'input_ids', 'attention_mask']\n"
     ]
    }
   ],
   "source": [
    "print(mim_enc[\"train\"].column_names)"
   ]
  },
  {
   "cell_type": "code",
   "execution_count": 17,
   "metadata": {},
   "outputs": [],
   "source": [
    "import torch"
   ]
  },
  {
   "cell_type": "code",
   "execution_count": 18,
   "metadata": {},
   "outputs": [],
   "source": [
    "device = torch.device(\"cuda\" if torch.cuda.is_available() else \"cpu\")"
   ]
  },
  {
   "cell_type": "code",
   "execution_count": 19,
   "metadata": {},
   "outputs": [
    {
     "name": "stderr",
     "output_type": "stream",
     "text": [
      "Downloading (…)\"pytorch_model.bin\";: 100%|██████████| 501M/501M [00:40<00:00, 12.3MB/s] \n",
      "Some weights of the model checkpoint at roberta-base were not used when initializing RobertaForSequenceClassification: ['roberta.pooler.dense.bias', 'roberta.pooler.dense.weight', 'lm_head.layer_norm.weight', 'lm_head.dense.weight', 'lm_head.dense.bias', 'lm_head.bias', 'lm_head.layer_norm.bias', 'lm_head.decoder.weight']\n",
      "- This IS expected if you are initializing RobertaForSequenceClassification from the checkpoint of a model trained on another task or with another architecture (e.g. initializing a BertForSequenceClassification model from a BertForPreTraining model).\n",
      "- This IS NOT expected if you are initializing RobertaForSequenceClassification from the checkpoint of a model that you expect to be exactly identical (initializing a BertForSequenceClassification model from a BertForSequenceClassification model).\n",
      "Some weights of RobertaForSequenceClassification were not initialized from the model checkpoint at roberta-base and are newly initialized: ['classifier.out_proj.bias', 'classifier.dense.bias', 'classifier.dense.weight', 'classifier.out_proj.weight']\n",
      "You should probably TRAIN this model on a down-stream task to be able to use it for predictions and inference.\n"
     ]
    }
   ],
   "source": [
    "from transformers import AutoModelForSequenceClassification\n",
    "\n",
    "num_labels = 7\n",
    "model = (AutoModelForSequenceClassification\n",
    "         .from_pretrained(model_ckpt, num_labels=num_labels)\n",
    "         .to(device))"
   ]
  },
  {
   "cell_type": "code",
   "execution_count": 20,
   "metadata": {},
   "outputs": [],
   "source": [
    "from sklearn.metrics import accuracy_score, f1_score\n",
    "\n",
    "def compute_metrics(pred):\n",
    "    labels = pred.label_ids\n",
    "    preds = pred.predictions.argmax(-1)\n",
    "    f1 = f1_score(labels, preds, average=\"weighted\")\n",
    "    acc = accuracy_score(labels, preds)\n",
    "    return {\"accuracy\": acc, \"f1\": f1}"
   ]
  },
  {
   "cell_type": "code",
   "execution_count": 21,
   "metadata": {},
   "outputs": [],
   "source": [
    "from transformers import Trainer, TrainingArguments\n",
    "\n",
    "batch_size = 2\n",
    "logging_steps = len(mim_enc[\"train\"]) // batch_size\n",
    "#CHECK output_dir meaning, have I messed up?\n",
    "model_name = f\"{model_ckpt}-mimicfullclass\"\n",
    "training_args = TrainingArguments(output_dir=model_name,\n",
    "                                  num_train_epochs=2,\n",
    "                                  learning_rate=2e-5,\n",
    "                                  per_device_train_batch_size=batch_size,\n",
    "                                  per_device_eval_batch_size=batch_size,\n",
    "                                  weight_decay=0.01,\n",
    "                                  evaluation_strategy=\"epoch\",\n",
    "                                  disable_tqdm=False,\n",
    "                                  logging_steps=logging_steps,\n",
    "                                  push_to_hub=False,\n",
    "                                  log_level=\"error\")"
   ]
  },
  {
   "cell_type": "code",
   "execution_count": 22,
   "metadata": {},
   "outputs": [
    {
     "name": "stderr",
     "output_type": "stream",
     "text": [
      "c:\\Users\\Louis\\anaconda3\\envs\\contest2\\lib\\site-packages\\transformers\\optimization.py:306: FutureWarning: This implementation of AdamW is deprecated and will be removed in a future version. Use the PyTorch implementation torch.optim.AdamW instead, or set `no_deprecation_warning=True` to disable this warning\n",
      "  warnings.warn(\n",
      " 50%|█████     | 4780/9560 [11:48<10:23,  7.67it/s]  "
     ]
    },
    {
     "name": "stdout",
     "output_type": "stream",
     "text": [
      "{'loss': 0.4788, 'learning_rate': 1.0002092050209206e-05, 'epoch': 1.0}\n"
     ]
    },
    {
     "name": "stderr",
     "output_type": "stream",
     "text": [
      "                                                   \n",
      " 50%|█████     | 4781/9560 [12:44<22:45:58, 17.15s/it]"
     ]
    },
    {
     "name": "stdout",
     "output_type": "stream",
     "text": [
      "{'eval_loss': 0.3736928701400757, 'eval_accuracy': 0.9283879254977521, 'eval_f1': 0.9235552181680228, 'eval_runtime': 56.7269, 'eval_samples_per_second': 54.895, 'eval_steps_per_second': 27.447, 'epoch': 1.0}\n"
     ]
    },
    {
     "name": "stderr",
     "output_type": "stream",
     "text": [
      "100%|█████████▉| 9559/9560 [24:49<00:00,  6.64it/s]   "
     ]
    },
    {
     "name": "stdout",
     "output_type": "stream",
     "text": [
      "{'loss': 0.2727, 'learning_rate': 4.184100418410042e-09, 'epoch': 2.0}\n"
     ]
    },
    {
     "name": "stderr",
     "output_type": "stream",
     "text": [
      "                                                   \n",
      "100%|██████████| 9560/9560 [25:50<00:00,  6.17it/s]"
     ]
    },
    {
     "name": "stdout",
     "output_type": "stream",
     "text": [
      "{'eval_loss': 0.31775736808776855, 'eval_accuracy': 0.9405908798972383, 'eval_f1': 0.9416942643120513, 'eval_runtime': 60.7828, 'eval_samples_per_second': 51.232, 'eval_steps_per_second': 25.616, 'epoch': 2.0}\n",
      "{'train_runtime': 1550.1148, 'train_samples_per_second': 12.333, 'train_steps_per_second': 6.167, 'train_loss': 0.3756394936413934, 'epoch': 2.0}\n"
     ]
    },
    {
     "name": "stderr",
     "output_type": "stream",
     "text": [
      "\n"
     ]
    }
   ],
   "source": [
    "trainer = Trainer(model=model, args=training_args,\n",
    "                  compute_metrics=compute_metrics,\n",
    "                  train_dataset=mim_enc[\"train\"],\n",
    "                  eval_dataset=mim_enc[\"validation\"],\n",
    "                  tokenizer=tokenizer)\n",
    "trainer.train();"
   ]
  },
  {
   "cell_type": "code",
   "execution_count": 23,
   "metadata": {},
   "outputs": [
    {
     "name": "stderr",
     "output_type": "stream",
     "text": [
      "100%|██████████| 1557/1557 [00:59<00:00, 26.33it/s]\n"
     ]
    }
   ],
   "source": [
    "preds_output = trainer.predict(mim_enc[\"validation\"])"
   ]
  },
  {
   "cell_type": "code",
   "execution_count": 24,
   "metadata": {},
   "outputs": [
    {
     "data": {
      "text/plain": [
       "PredictionOutput(predictions=array([[-1.5511229 ,  9.22006   , -1.3067886 , ..., -2.6835473 ,\n",
       "        -3.2020864 , -0.960396  ],\n",
       "       [-1.7350651 , -1.6780249 , -1.7415005 , ..., 10.70256   ,\n",
       "        -1.4628329 , -1.8762994 ],\n",
       "       [-1.6963128 , -1.6463583 , -1.6432256 , ..., 10.683848  ,\n",
       "        -1.5161674 , -1.8694282 ],\n",
       "       ...,\n",
       "       [-1.7247945 , -1.679749  , -1.6320162 , ..., 10.695642  ,\n",
       "        -1.4902272 , -1.9002601 ],\n",
       "       [-0.9895866 ,  9.088728  , -1.2992535 , ..., -2.9126098 ,\n",
       "        -3.1446724 , -1.0182472 ],\n",
       "       [-1.6335225 ,  9.246397  , -1.4080789 , ..., -2.6341789 ,\n",
       "        -3.0661142 , -0.96434724]], dtype=float32), label_ids=array([1, 4, 4, ..., 4, 1, 1], dtype=int64), metrics={'test_loss': 0.31775736808776855, 'test_accuracy': 0.9405908798972383, 'test_f1': 0.9416942643120513, 'test_runtime': 59.2756, 'test_samples_per_second': 52.534, 'test_steps_per_second': 26.267})"
      ]
     },
     "execution_count": 24,
     "metadata": {},
     "output_type": "execute_result"
    }
   ],
   "source": [
    "preds_output"
   ]
  },
  {
   "cell_type": "code",
   "execution_count": 25,
   "metadata": {},
   "outputs": [
    {
     "data": {
      "text/plain": [
       "{'test_loss': 0.31775736808776855,\n",
       " 'test_accuracy': 0.9405908798972383,\n",
       " 'test_f1': 0.9416942643120513,\n",
       " 'test_runtime': 59.2756,\n",
       " 'test_samples_per_second': 52.534,\n",
       " 'test_steps_per_second': 26.267}"
      ]
     },
     "execution_count": 25,
     "metadata": {},
     "output_type": "execute_result"
    }
   ],
   "source": [
    "preds_output.metrics"
   ]
  },
  {
   "cell_type": "code",
   "execution_count": 26,
   "metadata": {},
   "outputs": [],
   "source": [
    "import numpy as np\n",
    "y_preds = np.argmax(preds_output.predictions, axis=1)"
   ]
  },
  {
   "cell_type": "code",
   "execution_count": 27,
   "metadata": {},
   "outputs": [],
   "source": [
    "from sklearn.metrics import ConfusionMatrixDisplay, confusion_matrix\n",
    "\n",
    "def plot_confusion_matrix(y_preds, y_true, labels):\n",
    "    cm = confusion_matrix(y_true, y_preds, normalize='true')\n",
    "    fig, ax = plt.subplots(figsize=(6, 6))\n",
    "    disp = ConfusionMatrixDisplay(confusion_matrix=cm, display_labels=labels)\n",
    "    disp.plot(cmap=\"Blues\", values_format=\".2f\", ax=ax, colorbar=False)\n",
    "    plt.title(\"Normalized confusion matrix\")\n",
    "    plt.show()"
   ]
  },
  {
   "cell_type": "code",
   "execution_count": 28,
   "metadata": {},
   "outputs": [],
   "source": [
    "y_valid = np.array(mimic[\"validation\"][\"label\"])"
   ]
  },
  {
   "cell_type": "code",
   "execution_count": 29,
   "metadata": {},
   "outputs": [],
   "source": [
    "labels = mimic[\"train\"].features[\"label\"].names"
   ]
  },
  {
   "cell_type": "code",
   "execution_count": 30,
   "metadata": {},
   "outputs": [
    {
     "data": {
      "image/png": "[encoded data removed]",
      "text/plain": [
       "<Figure size 600x600 with 1 Axes>"
      ]
     },
     "metadata": {},
     "output_type": "display_data"
    }
   ],
   "source": [
    "plot_confusion_matrix(y_preds, y_valid, labels)"
   ]
  },
  {
   "cell_type": "code",
   "execution_count": 31,
   "metadata": {},
   "outputs": [],
   "source": [
    "trainer.save_model(\"C:/Users/Louis/OneDrive/Documents/Oxford/Maths/Dissertation/Models/robertamulti1\")"
   ]
  }
 ],
 "metadata": {
  "kernelspec": {
   "display_name": "contest2",
   "language": "python",
   "name": "python3"
  },
  "language_info": {
   "codemirror_mode": {
    "name": "ipython",
    "version": 3
   },
   "file_extension": ".py",
   "mimetype": "text/x-python",
   "name": "python",
   "nbconvert_exporter": "python",
   "pygments_lexer": "ipython3",
   "version": "3.9.16"
  },
  "orig_nbformat": 4,
  "vscode": {
   "interpreter": {
    "hash": "81d310f4da2eff943a78a5c4ea4568ad224fd64c441a0d5d1aa33e779bce739c"
   }
  }
 },
 "nbformat": 4,
 "nbformat_minor": 2
}
