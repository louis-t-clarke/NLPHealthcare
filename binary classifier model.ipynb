{
 "cells": [
  {
   "cell_type": "code",
   "execution_count": 1,
   "metadata": {},
   "outputs": [],
   "source": [
    "import pandas as pd"
   ]
  },
  {
   "cell_type": "code",
   "execution_count": 2,
   "metadata": {},
   "outputs": [],
   "source": [
    "dep = [\"AcuteMedicine\", \"Cardiology\", \"Gastroenterology\", \"Neurology\", \"Obstetrics\", \"Oncology\", \"Respiratory\"]"
   ]
  },
  {
   "cell_type": "code",
   "execution_count": 3,
   "metadata": {},
   "outputs": [],
   "source": [
    "dft = pd.read_csv(\"C:/Users/Louis/OneDrive/Documents/Oxford/Maths/Dissertation/train.csv\")\n",
    "dfv = pd.read_csv(\"C:/Users/Louis/OneDrive/Documents/Oxford/Maths/Dissertation/valid.csv\")"
   ]
  },
  {
   "cell_type": "code",
   "execution_count": 4,
   "metadata": {},
   "outputs": [
    {
     "data": {
      "text/plain": [
       "Cardiology          4981\n",
       "Obstetrics          1788\n",
       "Respiratory         1219\n",
       "Neurology            744\n",
       "Gastroenterology     417\n",
       "AcuteMedicine        213\n",
       "Oncology             197\n",
       "Name: triage-category, dtype: int64"
      ]
     },
     "execution_count": 4,
     "metadata": {},
     "output_type": "execute_result"
    }
   ],
   "source": [
    "dft[\"triage-category\"].value_counts()"
   ]
  },
  {
   "cell_type": "code",
   "execution_count": 5,
   "metadata": {},
   "outputs": [
    {
     "data": {
      "text/html": [
       "<div>\n",
       "<style scoped>\n",
       "    .dataframe tbody tr th:only-of-type {\n",
       "        vertical-align: middle;\n",
       "    }\n",
       "\n",
       "    .dataframe tbody tr th {\n",
       "        vertical-align: top;\n",
       "    }\n",
       "\n",
       "    .dataframe thead th {\n",
       "        text-align: right;\n",
       "    }\n",
       "</style>\n",
       "<table border=\"1\" class=\"dataframe\">\n",
       "  <thead>\n",
       "    <tr style=\"text-align: right;\">\n",
       "      <th></th>\n",
       "      <th>text</th>\n",
       "      <th>label</th>\n",
       "      <th>triage-category</th>\n",
       "    </tr>\n",
       "  </thead>\n",
       "  <tbody>\n",
       "    <tr>\n",
       "      <th>0</th>\n",
       "      <td>: : : Sex: M Service: MEDICINE Allergies: Iodi...</td>\n",
       "      <td>5849</td>\n",
       "      <td>AcuteMedicine</td>\n",
       "    </tr>\n",
       "    <tr>\n",
       "      <th>1</th>\n",
       "      <td>: : : Sex: F Service: MEDICINE Allergies: Pati...</td>\n",
       "      <td>5849</td>\n",
       "      <td>AcuteMedicine</td>\n",
       "    </tr>\n",
       "    <tr>\n",
       "      <th>2</th>\n",
       "      <td>: : Service: MEDICINE Allergies: Patient recor...</td>\n",
       "      <td>41011</td>\n",
       "      <td>Cardiology</td>\n",
       "    </tr>\n",
       "    <tr>\n",
       "      <th>3</th>\n",
       "      <td>: : : Sex: M Service: CARDIOTHORACIC Allergies...</td>\n",
       "      <td>41401</td>\n",
       "      <td>Cardiology</td>\n",
       "    </tr>\n",
       "    <tr>\n",
       "      <th>4</th>\n",
       "      <td>: : Service: SURGERY Allergies: Nsaids / Aspir...</td>\n",
       "      <td>5789</td>\n",
       "      <td>Gastroenterology</td>\n",
       "    </tr>\n",
       "    <tr>\n",
       "      <th>5</th>\n",
       "      <td>: : : Sex: F Service: MEDICINE Allergies: Pati...</td>\n",
       "      <td>5789</td>\n",
       "      <td>Gastroenterology</td>\n",
       "    </tr>\n",
       "    <tr>\n",
       "      <th>6</th>\n",
       "      <td>: : : Sex: M Service: NSU HISTORY OF PRESENT I...</td>\n",
       "      <td>430</td>\n",
       "      <td>Neurology</td>\n",
       "    </tr>\n",
       "    <tr>\n",
       "      <th>7</th>\n",
       "      <td>: : : Sex: F Service: NSU HISTORY OF PRESENT I...</td>\n",
       "      <td>430</td>\n",
       "      <td>Neurology</td>\n",
       "    </tr>\n",
       "    <tr>\n",
       "      <th>8</th>\n",
       "      <td>: : : Sex: M Service: ADMISSION DIAGNOSIS: . N...</td>\n",
       "      <td>V3001</td>\n",
       "      <td>Obstetrics</td>\n",
       "    </tr>\n",
       "    <tr>\n",
       "      <th>9</th>\n",
       "      <td>: : : Sex: M Service: NB HISTORY OF PRESENT IL...</td>\n",
       "      <td>V3000</td>\n",
       "      <td>Obstetrics</td>\n",
       "    </tr>\n",
       "    <tr>\n",
       "      <th>10</th>\n",
       "      <td>: : : Sex: F Service: NEUROSURGE DIAGNOSES: . ...</td>\n",
       "      <td>1983</td>\n",
       "      <td>Oncology</td>\n",
       "    </tr>\n",
       "    <tr>\n",
       "      <th>11</th>\n",
       "      <td>: : Service: HISTORY OF PRESENT ILLNESS: is an...</td>\n",
       "      <td>1983</td>\n",
       "      <td>Oncology</td>\n",
       "    </tr>\n",
       "    <tr>\n",
       "      <th>12</th>\n",
       "      <td>: : : Sex: F Service: MEDICINE Allergies: Pati...</td>\n",
       "      <td>51881</td>\n",
       "      <td>Respiratory</td>\n",
       "    </tr>\n",
       "    <tr>\n",
       "      <th>13</th>\n",
       "      <td>: : Service: MEDICINE Allergies: Bactrim / Cef...</td>\n",
       "      <td>51881</td>\n",
       "      <td>Respiratory</td>\n",
       "    </tr>\n",
       "  </tbody>\n",
       "</table>\n",
       "</div>"
      ],
      "text/plain": [
       "                                                 text  label   triage-category\n",
       "0   : : : Sex: M Service: MEDICINE Allergies: Iodi...   5849     AcuteMedicine\n",
       "1   : : : Sex: F Service: MEDICINE Allergies: Pati...   5849     AcuteMedicine\n",
       "2   : : Service: MEDICINE Allergies: Patient recor...  41011        Cardiology\n",
       "3   : : : Sex: M Service: CARDIOTHORACIC Allergies...  41401        Cardiology\n",
       "4   : : Service: SURGERY Allergies: Nsaids / Aspir...   5789  Gastroenterology\n",
       "5   : : : Sex: F Service: MEDICINE Allergies: Pati...   5789  Gastroenterology\n",
       "6   : : : Sex: M Service: NSU HISTORY OF PRESENT I...    430         Neurology\n",
       "7   : : : Sex: F Service: NSU HISTORY OF PRESENT I...    430         Neurology\n",
       "8   : : : Sex: M Service: ADMISSION DIAGNOSIS: . N...  V3001        Obstetrics\n",
       "9   : : : Sex: M Service: NB HISTORY OF PRESENT IL...  V3000        Obstetrics\n",
       "10  : : : Sex: F Service: NEUROSURGE DIAGNOSES: . ...   1983          Oncology\n",
       "11  : : Service: HISTORY OF PRESENT ILLNESS: is an...   1983          Oncology\n",
       "12  : : : Sex: F Service: MEDICINE Allergies: Pati...  51881       Respiratory\n",
       "13  : : Service: MEDICINE Allergies: Bactrim / Cef...  51881       Respiratory"
      ]
     },
     "execution_count": 5,
     "metadata": {},
     "output_type": "execute_result"
    }
   ],
   "source": [
    "dft.groupby('triage-category').apply(lambda x: x.sample(2, replace=False, random_state=2)).reset_index(drop=True)"
   ]
  },
  {
   "cell_type": "code",
   "execution_count": 6,
   "metadata": {},
   "outputs": [
    {
     "data": {
      "text/plain": [
       "Cardiology          1571\n",
       "Obstetrics           635\n",
       "Respiratory          388\n",
       "Neurology            231\n",
       "Gastroenterology     148\n",
       "Oncology              75\n",
       "AcuteMedicine         66\n",
       "Name: triage-category, dtype: int64"
      ]
     },
     "execution_count": 6,
     "metadata": {},
     "output_type": "execute_result"
    }
   ],
   "source": [
    "dfv[\"triage-category\"].value_counts()"
   ]
  },
  {
   "cell_type": "code",
   "execution_count": 7,
   "metadata": {},
   "outputs": [
    {
     "data": {
      "text/html": [
       "<div>\n",
       "<style scoped>\n",
       "    .dataframe tbody tr th:only-of-type {\n",
       "        vertical-align: middle;\n",
       "    }\n",
       "\n",
       "    .dataframe tbody tr th {\n",
       "        vertical-align: top;\n",
       "    }\n",
       "\n",
       "    .dataframe thead th {\n",
       "        text-align: right;\n",
       "    }\n",
       "</style>\n",
       "<table border=\"1\" class=\"dataframe\">\n",
       "  <thead>\n",
       "    <tr style=\"text-align: right;\">\n",
       "      <th></th>\n",
       "      <th>text</th>\n",
       "      <th>label</th>\n",
       "      <th>triage-category</th>\n",
       "    </tr>\n",
       "  </thead>\n",
       "  <tbody>\n",
       "    <tr>\n",
       "      <th>0</th>\n",
       "      <td>: : : Sex: F Service: CARDIOTHORACIC Allergies...</td>\n",
       "      <td>4240</td>\n",
       "      <td>Cardiology</td>\n",
       "    </tr>\n",
       "    <tr>\n",
       "      <th>2</th>\n",
       "      <td>: : : Sex: M Service: CARDIOTHORACIC Allergies...</td>\n",
       "      <td>41041</td>\n",
       "      <td>Cardiology</td>\n",
       "    </tr>\n",
       "    <tr>\n",
       "      <th>4</th>\n",
       "      <td>: : : Sex: M Service: ADMISSION DIAGNOSIS: . S...</td>\n",
       "      <td>41401</td>\n",
       "      <td>Cardiology</td>\n",
       "    </tr>\n",
       "    <tr>\n",
       "      <th>6</th>\n",
       "      <td>: : : Sex: M Service: HISTORY OF PRESENT ILLNE...</td>\n",
       "      <td>41401</td>\n",
       "      <td>Cardiology</td>\n",
       "    </tr>\n",
       "    <tr>\n",
       "      <th>7</th>\n",
       "      <td>: : Service: CSU HISTORY OF PRESENT ILLNESS: T...</td>\n",
       "      <td>41401</td>\n",
       "      <td>Cardiology</td>\n",
       "    </tr>\n",
       "    <tr>\n",
       "      <th>8</th>\n",
       "      <td>: : : Sex: F Service: CARDIAC SURGERY CHIEF CO...</td>\n",
       "      <td>41401</td>\n",
       "      <td>Cardiology</td>\n",
       "    </tr>\n",
       "    <tr>\n",
       "      <th>9</th>\n",
       "      <td>: : : Sex: M Service: MEDICINE Allergies: Aspi...</td>\n",
       "      <td>4280</td>\n",
       "      <td>Cardiology</td>\n",
       "    </tr>\n",
       "    <tr>\n",
       "      <th>10</th>\n",
       "      <td>: : : Sex: F Service: CARDIOTHORACIC Allergies...</td>\n",
       "      <td>41401</td>\n",
       "      <td>Cardiology</td>\n",
       "    </tr>\n",
       "    <tr>\n",
       "      <th>12</th>\n",
       "      <td>: : : Sex: M Service: CARDIOTHORACIC Allergies...</td>\n",
       "      <td>41041</td>\n",
       "      <td>Cardiology</td>\n",
       "    </tr>\n",
       "    <tr>\n",
       "      <th>14</th>\n",
       "      <td>: : Service: MICU CHIEF COMPLAINT: Lightheaded...</td>\n",
       "      <td>4280</td>\n",
       "      <td>Cardiology</td>\n",
       "    </tr>\n",
       "  </tbody>\n",
       "</table>\n",
       "</div>"
      ],
      "text/plain": [
       "                                                 text  label triage-category\n",
       "0   : : : Sex: F Service: CARDIOTHORACIC Allergies...   4240      Cardiology\n",
       "2   : : : Sex: M Service: CARDIOTHORACIC Allergies...  41041      Cardiology\n",
       "4   : : : Sex: M Service: ADMISSION DIAGNOSIS: . S...  41401      Cardiology\n",
       "6   : : : Sex: M Service: HISTORY OF PRESENT ILLNE...  41401      Cardiology\n",
       "7   : : Service: CSU HISTORY OF PRESENT ILLNESS: T...  41401      Cardiology\n",
       "8   : : : Sex: F Service: CARDIAC SURGERY CHIEF CO...  41401      Cardiology\n",
       "9   : : : Sex: M Service: MEDICINE Allergies: Aspi...   4280      Cardiology\n",
       "10  : : : Sex: F Service: CARDIOTHORACIC Allergies...  41401      Cardiology\n",
       "12  : : : Sex: M Service: CARDIOTHORACIC Allergies...  41041      Cardiology\n",
       "14  : : Service: MICU CHIEF COMPLAINT: Lightheaded...   4280      Cardiology"
      ]
     },
     "execution_count": 7,
     "metadata": {},
     "output_type": "execute_result"
    }
   ],
   "source": [
    "dft.loc[dft['triage-category'] == \"Cardiology\"][:10]"
   ]
  },
  {
   "cell_type": "code",
   "execution_count": 8,
   "metadata": {},
   "outputs": [
    {
     "name": "stderr",
     "output_type": "stream",
     "text": [
      "c:\\Users\\Louis\\anaconda3\\envs\\contest2\\lib\\site-packages\\tqdm\\auto.py:22: TqdmWarning: IProgress not found. Please update jupyter and ipywidgets. See https://ipywidgets.readthedocs.io/en/stable/user_install.html\n",
      "  from .autonotebook import tqdm as notebook_tqdm\n"
     ]
    }
   ],
   "source": [
    "import copy\n",
    "from datasets import DatasetDict, Dataset"
   ]
  },
  {
   "cell_type": "code",
   "execution_count": 9,
   "metadata": {},
   "outputs": [],
   "source": [
    "data = {}"
   ]
  },
  {
   "cell_type": "code",
   "execution_count": 10,
   "metadata": {},
   "outputs": [],
   "source": [
    "dfts = dft.groupby('triage-category').apply(lambda x: x.sample(197, replace=False, random_state=2)).reset_index(drop=True) #sample 197 from each class randomly without replacement"
   ]
  },
  {
   "cell_type": "code",
   "execution_count": 11,
   "metadata": {},
   "outputs": [
    {
     "name": "stderr",
     "output_type": "stream",
     "text": [
      "Stringifying the column: 100%|██████████| 2/2 [00:00<00:00, 181.65ba/s]\n",
      "Casting to class labels: 100%|██████████| 2/2 [00:00<00:00, 181.65ba/s]\n",
      "Stringifying the column: 100%|██████████| 4/4 [00:00<00:00, 444.01ba/s]\n",
      "Casting to class labels: 100%|██████████| 4/4 [00:00<00:00, 285.45ba/s]\n",
      "Stringifying the column: 100%|██████████| 2/2 [00:00<00:00, 665.92ba/s]\n",
      "Casting to class labels: 100%|██████████| 2/2 [00:00<00:00, 285.49ba/s]\n",
      "Stringifying the column: 100%|██████████| 4/4 [00:00<00:00, 333.01ba/s]\n",
      "Casting to class labels: 100%|██████████| 4/4 [00:00<00:00, 235.08ba/s]\n",
      "Stringifying the column: 100%|██████████| 2/2 [00:00<00:00, 665.87ba/s]\n",
      "Casting to class labels: 100%|██████████| 2/2 [00:00<00:00, 332.99ba/s]\n",
      "Stringifying the column: 100%|██████████| 4/4 [00:00<00:00, 399.61ba/s]\n",
      "Casting to class labels: 100%|██████████| 4/4 [00:00<00:00, 249.79ba/s]\n",
      "Stringifying the column: 100%|██████████| 2/2 [00:00<00:00, 666.19ba/s]\n",
      "Casting to class labels: 100%|██████████| 2/2 [00:00<00:00, 333.03ba/s]\n",
      "Stringifying the column: 100%|██████████| 4/4 [00:00<00:00, 363.32ba/s]\n",
      "Casting to class labels: 100%|██████████| 4/4 [00:00<00:00, 249.78ba/s]\n",
      "Stringifying the column: 100%|██████████| 2/2 [00:00<00:00, 666.03ba/s]\n",
      "Casting to class labels: 100%|██████████| 2/2 [00:00<00:00, 333.07ba/s]\n",
      "Stringifying the column: 100%|██████████| 4/4 [00:00<00:00, 399.67ba/s]\n",
      "Casting to class labels: 100%|██████████| 4/4 [00:00<00:00, 266.43ba/s]\n",
      "Stringifying the column: 100%|██████████| 2/2 [00:00<00:00, 666.03ba/s]\n",
      "Casting to class labels: 100%|██████████| 2/2 [00:00<00:00, 285.47ba/s]\n",
      "Stringifying the column: 100%|██████████| 4/4 [00:00<00:00, 444.05ba/s]\n",
      "Casting to class labels: 100%|██████████| 4/4 [00:00<00:00, 266.41ba/s]\n",
      "Stringifying the column: 100%|██████████| 2/2 [00:00<00:00, 666.03ba/s]\n",
      "Casting to class labels: 100%|██████████| 2/2 [00:00<00:00, 399.74ba/s]\n",
      "Stringifying the column: 100%|██████████| 4/4 [00:00<00:00, 444.06ba/s]\n",
      "Casting to class labels: 100%|██████████| 4/4 [00:00<00:00, 266.42ba/s]\n"
     ]
    }
   ],
   "source": [
    "for d in dep:\n",
    "    tst = copy.deepcopy(dfts)\n",
    "    val = copy.deepcopy(dfv)\n",
    "    def labelint(row):\n",
    "        if row == d:\n",
    "            return 0\n",
    "        else:\n",
    "            return 1\n",
    "    \n",
    "    tst[\"class\"] = tst[\"triage-category\"].apply(labelint)\n",
    "    val[\"class\"] = val[\"triage-category\"].apply(labelint)\n",
    "    x = tst.drop(columns=[\"label\", \"triage-category\"]).rename(columns={\"class\": \"label\"})\n",
    "    y = val.drop(columns=[\"label\", \"triage-category\"]).rename(columns={\"class\": \"label\"})\n",
    "\n",
    "    \n",
    "    \n",
    "    mimic = DatasetDict({\n",
    "    \"train\" : Dataset.from_pandas(x).class_encode_column(\"label\"), \n",
    "    \"validation\" : Dataset.from_pandas(y).class_encode_column(\"label\") \n",
    "    })\n",
    "\n",
    "    data[d] = mimic\n",
    "    "
   ]
  },
  {
   "cell_type": "code",
   "execution_count": 12,
   "metadata": {},
   "outputs": [
    {
     "data": {
      "text/plain": [
       "Dataset({\n",
       "    features: ['text', 'label'],\n",
       "    num_rows: 1379\n",
       "})"
      ]
     },
     "execution_count": 12,
     "metadata": {},
     "output_type": "execute_result"
    }
   ],
   "source": [
    "data[\"Cardiology\"]['train']"
   ]
  },
  {
   "cell_type": "code",
   "execution_count": 13,
   "metadata": {},
   "outputs": [],
   "source": [
    "from transformers import AutoTokenizer\n",
    "\n",
    "model_ckpt = \"roberta-base\"\n",
    "tokenizer = AutoTokenizer.from_pretrained(model_ckpt)"
   ]
  },
  {
   "cell_type": "code",
   "execution_count": 14,
   "metadata": {},
   "outputs": [],
   "source": [
    "def tokenize(batch):\n",
    "    return tokenizer(batch[\"text\"], padding=True, truncation=True)"
   ]
  },
  {
   "cell_type": "code",
   "execution_count": 15,
   "metadata": {},
   "outputs": [
    {
     "name": "stderr",
     "output_type": "stream",
     "text": [
      "100%|██████████| 1/1 [00:01<00:00,  1.21s/ba]\n",
      "100%|██████████| 1/1 [00:02<00:00,  2.30s/ba]\n",
      "100%|██████████| 1/1 [00:01<00:00,  1.11s/ba]\n",
      "100%|██████████| 1/1 [00:02<00:00,  2.33s/ba]\n",
      "100%|██████████| 1/1 [00:01<00:00,  1.10s/ba]\n",
      "100%|██████████| 1/1 [00:02<00:00,  2.30s/ba]\n",
      "100%|██████████| 1/1 [00:01<00:00,  1.08s/ba]\n",
      "100%|██████████| 1/1 [00:02<00:00,  2.28s/ba]\n",
      "100%|██████████| 1/1 [00:01<00:00,  1.13s/ba]\n",
      "100%|██████████| 1/1 [00:02<00:00,  2.29s/ba]\n",
      "100%|██████████| 1/1 [00:01<00:00,  1.12s/ba]\n",
      "100%|██████████| 1/1 [00:02<00:00,  2.26s/ba]\n",
      "100%|██████████| 1/1 [00:01<00:00,  1.08s/ba]\n",
      "100%|██████████| 1/1 [00:02<00:00,  2.28s/ba]\n"
     ]
    }
   ],
   "source": [
    "enc = {}\n",
    "for d in dep:\n",
    "    enc[d] = data[d].map(tokenize, batched=True, batch_size=None)"
   ]
  },
  {
   "cell_type": "code",
   "execution_count": 16,
   "metadata": {},
   "outputs": [
    {
     "data": {
      "text/plain": [
       "{'train': ['text', 'label', 'input_ids', 'attention_mask'],\n",
       " 'validation': ['text', 'label', 'input_ids', 'attention_mask']}"
      ]
     },
     "execution_count": 16,
     "metadata": {},
     "output_type": "execute_result"
    }
   ],
   "source": [
    "enc[\"AcuteMedicine\"].column_names"
   ]
  },
  {
   "cell_type": "code",
   "execution_count": 17,
   "metadata": {},
   "outputs": [
    {
     "data": {
      "text/plain": [
       "[0,\n",
       " 35,\n",
       " 4832,\n",
       " 4832,\n",
       " 15516,\n",
       " 35,\n",
       " 256,\n",
       " 1841,\n",
       " 35,\n",
       " 22718,\n",
       " 2371,\n",
       " 13974,\n",
       " 404,\n",
       " 11249,\n",
       " 918,\n",
       " 35,\n",
       " 38,\n",
       " 1630,\n",
       " 833,\n",
       " 12,\n",
       " 100,\n",
       " 1630,\n",
       " 833,\n",
       " 7555,\n",
       " 8173,\n",
       " 1589,\n",
       " 44550,\n",
       " 833,\n",
       " 4832,\n",
       " 1231,\n",
       " 20722,\n",
       " 12042,\n",
       " 35,\n",
       " 15671,\n",
       " 261,\n",
       " 415,\n",
       " 5593,\n",
       " 493,\n",
       " 6,\n",
       " 13827,\n",
       " 39729,\n",
       " 2988,\n",
       " 6,\n",
       " 8944,\n",
       " 330,\n",
       " 337,\n",
       " 23249,\n",
       " 5454,\n",
       " 208,\n",
       " 19625,\n",
       " 50,\n",
       " 9318,\n",
       " 33745,\n",
       " 40209,\n",
       " 35,\n",
       " 6979,\n",
       " 1792,\n",
       " 1258,\n",
       " 20259,\n",
       " 846,\n",
       " 725,\n",
       " 579,\n",
       " 73,\n",
       " 642,\n",
       " 16415,\n",
       " 2407,\n",
       " 1178,\n",
       " 13133,\n",
       " 13,\n",
       " 20971,\n",
       " 29079,\n",
       " 3888,\n",
       " 7089,\n",
       " 61,\n",
       " 41281,\n",
       " 7878,\n",
       " 579,\n",
       " 73,\n",
       " 642,\n",
       " 3087,\n",
       " 3792,\n",
       " 28050,\n",
       " 13604,\n",
       " 13,\n",
       " 17092,\n",
       " 154,\n",
       " 314,\n",
       " 1717,\n",
       " 241,\n",
       " 1334,\n",
       " 337,\n",
       " 7326,\n",
       " 7298,\n",
       " 9,\n",
       " 17356,\n",
       " 12285,\n",
       " 1825,\n",
       " 35,\n",
       " 42191,\n",
       " 16,\n",
       " 10,\n",
       " 25610,\n",
       " 313,\n",
       " 19,\n",
       " 6336,\n",
       " 375,\n",
       " 1131,\n",
       " 750,\n",
       " 217,\n",
       " 1533,\n",
       " 127,\n",
       " 523,\n",
       " 4982,\n",
       " 8,\n",
       " 29051,\n",
       " 3551,\n",
       " 28837,\n",
       " 20307,\n",
       " 1135,\n",
       " 5804,\n",
       " 740,\n",
       " 73,\n",
       " 428,\n",
       " 16698,\n",
       " 30960,\n",
       " 9,\n",
       " 4381,\n",
       " 4400,\n",
       " 17129,\n",
       " 579,\n",
       " 73,\n",
       " 642,\n",
       " 28670,\n",
       " 16415,\n",
       " 2407,\n",
       " 1178,\n",
       " 4758,\n",
       " 31995,\n",
       " 13133,\n",
       " 15,\n",
       " 13,\n",
       " 42173,\n",
       " 29177,\n",
       " 15160,\n",
       " 179,\n",
       " 1580,\n",
       " 94,\n",
       " 2641,\n",
       " 19,\n",
       " 37582,\n",
       " 10100,\n",
       " 11,\n",
       " 122,\n",
       " 6822,\n",
       " 19,\n",
       " 28657,\n",
       " 8,\n",
       " 16069,\n",
       " 579,\n",
       " 73,\n",
       " 642,\n",
       " 21817,\n",
       " 14194,\n",
       " 856,\n",
       " 6998,\n",
       " 7,\n",
       " 33,\n",
       " 15671,\n",
       " 261,\n",
       " 415,\n",
       " 5593,\n",
       " 493,\n",
       " 6,\n",
       " 13827,\n",
       " 39729,\n",
       " 2988,\n",
       " 6,\n",
       " 8944,\n",
       " 330,\n",
       " 337,\n",
       " 23249,\n",
       " 4,\n",
       " 479,\n",
       " 91,\n",
       " 34,\n",
       " 855,\n",
       " 57,\n",
       " 15,\n",
       " 33274,\n",
       " 9,\n",
       " 1502,\n",
       " 625,\n",
       " 2839,\n",
       " 17844,\n",
       " 36830,\n",
       " 19,\n",
       " 17844,\n",
       " 22293,\n",
       " 5804,\n",
       " 237,\n",
       " 360,\n",
       " 8,\n",
       " 769,\n",
       " 12,\n",
       " 33437,\n",
       " 111,\n",
       " 17844,\n",
       " 4202,\n",
       " 358,\n",
       " 97,\n",
       " 183,\n",
       " 4,\n",
       " 374,\n",
       " 294,\n",
       " 576,\n",
       " 1379,\n",
       " 59,\n",
       " 10,\n",
       " 678,\n",
       " 7910,\n",
       " 528,\n",
       " 7,\n",
       " 8620,\n",
       " 1925,\n",
       " 9985,\n",
       " 6,\n",
       " 7670,\n",
       " 1848,\n",
       " 32776,\n",
       " 8,\n",
       " 2084,\n",
       " 1350,\n",
       " 12592,\n",
       " 493,\n",
       " 39,\n",
       " 36207,\n",
       " 2839,\n",
       " 21,\n",
       " 8065,\n",
       " 31,\n",
       " 17844,\n",
       " 7,\n",
       " 17844,\n",
       " 4202,\n",
       " 2231,\n",
       " 417,\n",
       " 360,\n",
       " 2052,\n",
       " 7,\n",
       " 5209,\n",
       " 4,\n",
       " 91,\n",
       " 172,\n",
       " 56,\n",
       " 1130,\n",
       " 16069,\n",
       " 65,\n",
       " 183,\n",
       " 2052,\n",
       " 7,\n",
       " 5209,\n",
       " 4,\n",
       " 91,\n",
       " 473,\n",
       " 45,\n",
       " 17028,\n",
       " 27935,\n",
       " 6592,\n",
       " 157,\n",
       " 8,\n",
       " 16,\n",
       " 2333,\n",
       " 15,\n",
       " 10,\n",
       " 614,\n",
       " 5886,\n",
       " 5626,\n",
       " 4,\n",
       " 96,\n",
       " 7094,\n",
       " 13,\n",
       " 39,\n",
       " 21817,\n",
       " 14194,\n",
       " 37,\n",
       " 14964,\n",
       " 27935,\n",
       " 6592,\n",
       " 8,\n",
       " 8960,\n",
       " 2226,\n",
       " 28657,\n",
       " 7082,\n",
       " 741,\n",
       " 4339,\n",
       " 4,\n",
       " 12630,\n",
       " 5237,\n",
       " 7,\n",
       " 5,\n",
       " 1929,\n",
       " 42,\n",
       " 34,\n",
       " 28990,\n",
       " 4,\n",
       " 20,\n",
       " 35264,\n",
       " 21,\n",
       " 23174,\n",
       " 20815,\n",
       " 2550,\n",
       " 25,\n",
       " 6219,\n",
       " 19,\n",
       " 23618,\n",
       " 15291,\n",
       " 9,\n",
       " 1925,\n",
       " 4,\n",
       " 91,\n",
       " 222,\n",
       " 45,\n",
       " 33,\n",
       " 27214,\n",
       " 6,\n",
       " 23600,\n",
       " 50,\n",
       " 28670,\n",
       " 2400,\n",
       " 4,\n",
       " 91,\n",
       " 2333,\n",
       " 30645,\n",
       " 111,\n",
       " 574,\n",
       " 9,\n",
       " 12293,\n",
       " 31,\n",
       " 39,\n",
       " 28670,\n",
       " 16415,\n",
       " 2407,\n",
       " 1178,\n",
       " 4758,\n",
       " 31995,\n",
       " 1230,\n",
       " 53,\n",
       " 24,\n",
       " 34,\n",
       " 8065,\n",
       " 7,\n",
       " 226,\n",
       " 228,\n",
       " 183,\n",
       " 4,\n",
       " 91,\n",
       " 473,\n",
       " 33,\n",
       " 10,\n",
       " 1289,\n",
       " 3082,\n",
       " 5044,\n",
       " 1792,\n",
       " 10100,\n",
       " 61,\n",
       " 34,\n",
       " 555,\n",
       " 55,\n",
       " 35270,\n",
       " 11,\n",
       " 1109,\n",
       " 9,\n",
       " 5,\n",
       " 28657,\n",
       " 4,\n",
       " 91,\n",
       " 34,\n",
       " 45,\n",
       " 56,\n",
       " 143,\n",
       " 10668,\n",
       " 3697,\n",
       " 6,\n",
       " 1855,\n",
       " 5622,\n",
       " 50,\n",
       " 21768,\n",
       " 4,\n",
       " 91,\n",
       " 16,\n",
       " 855,\n",
       " 145,\n",
       " 15423,\n",
       " 30,\n",
       " 925,\n",
       " 4,\n",
       " 13,\n",
       " 1416,\n",
       " 9,\n",
       " 39,\n",
       " 16698,\n",
       " 30960,\n",
       " 4,\n",
       " 91,\n",
       " 16,\n",
       " 579,\n",
       " 73,\n",
       " 642,\n",
       " 12581,\n",
       " 741,\n",
       " 1178,\n",
       " 19,\n",
       " 45441,\n",
       " 5183,\n",
       " 21011,\n",
       " 1827,\n",
       " 1164,\n",
       " 43141,\n",
       " 67,\n",
       " 3744,\n",
       " 4,\n",
       " 2595,\n",
       " 39,\n",
       " 1141,\n",
       " 576,\n",
       " 5,\n",
       " 775,\n",
       " 9,\n",
       " 5,\n",
       " 12581,\n",
       " 741,\n",
       " 1178,\n",
       " 8,\n",
       " 5,\n",
       " 45441,\n",
       " 5183,\n",
       " 21011,\n",
       " 1827,\n",
       " 1164,\n",
       " 43141,\n",
       " 892,\n",
       " 925,\n",
       " 4,\n",
       " 4265,\n",
       " 14,\n",
       " 37,\n",
       " 16,\n",
       " 10,\n",
       " 1984,\n",
       " 13,\n",
       " 10,\n",
       " 29079,\n",
       " 3888,\n",
       " 7089,\n",
       " 4,\n",
       " 11182,\n",
       " 3067,\n",
       " 7298,\n",
       " 35,\n",
       " 5121,\n",
       " 18047,\n",
       " 10207,\n",
       " 975,\n",
       " 289,\n",
       " 40699,\n",
       " 35,\n",
       " 1009,\n",
       " 35,\n",
       " 7946,\n",
       " 9663,\n",
       " 19,\n",
       " 14966,\n",
       " 856,\n",
       " 1178,\n",
       " 6,\n",
       " 16069,\n",
       " 6,\n",
       " 25599,\n",
       " 642,\n",
       " 22423,\n",
       " 6,\n",
       " 8944,\n",
       " 11762,\n",
       " 1755,\n",
       " 24238,\n",
       " 6,\n",
       " 2156,\n",
       " 8,\n",
       " 5730,\n",
       " 4469,\n",
       " 8766,\n",
       " 225,\n",
       " 493,\n",
       " 4,\n",
       " 44681,\n",
       " 108,\n",
       " 196,\n",
       " 19,\n",
       " 1502,\n",
       " 625,\n",
       " 2839,\n",
       " 6,\n",
       " 23021,\n",
       " 26671,\n",
       " 6,\n",
       " 26853,\n",
       " 6,\n",
       " 13963,\n",
       " 7,\n",
       " 741,\n",
       " 73,\n",
       " 2]"
      ]
     },
     "execution_count": 17,
     "metadata": {},
     "output_type": "execute_result"
    }
   ],
   "source": [
    "enc[\"AcuteMedicine\"]['train']['input_ids'][0]"
   ]
  },
  {
   "cell_type": "code",
   "execution_count": 18,
   "metadata": {},
   "outputs": [],
   "source": [
    "import torch\n",
    "device = torch.device(\"cuda\" if torch.cuda.is_available() else \"cpu\")"
   ]
  },
  {
   "cell_type": "code",
   "execution_count": 19,
   "metadata": {},
   "outputs": [
    {
     "name": "stderr",
     "output_type": "stream",
     "text": [
      "Some weights of the model checkpoint at roberta-base were not used when initializing RobertaForSequenceClassification: ['roberta.pooler.dense.weight', 'lm_head.dense.weight', 'lm_head.layer_norm.bias', 'lm_head.dense.bias', 'lm_head.bias', 'roberta.pooler.dense.bias', 'lm_head.layer_norm.weight', 'lm_head.decoder.weight']\n",
      "- This IS expected if you are initializing RobertaForSequenceClassification from the checkpoint of a model trained on another task or with another architecture (e.g. initializing a BertForSequenceClassification model from a BertForPreTraining model).\n",
      "- This IS NOT expected if you are initializing RobertaForSequenceClassification from the checkpoint of a model that you expect to be exactly identical (initializing a BertForSequenceClassification model from a BertForSequenceClassification model).\n",
      "Some weights of RobertaForSequenceClassification were not initialized from the model checkpoint at roberta-base and are newly initialized: ['classifier.dense.bias', 'classifier.dense.weight', 'classifier.out_proj.bias', 'classifier.out_proj.weight']\n",
      "You should probably TRAIN this model on a down-stream task to be able to use it for predictions and inference.\n"
     ]
    }
   ],
   "source": [
    "from transformers import AutoModelForSequenceClassification\n",
    "\n",
    "num_labels = 7 #DONT YOU MEAN 2???????????\n",
    "model = (AutoModelForSequenceClassification\n",
    "         .from_pretrained(model_ckpt, num_labels=num_labels)\n",
    "         .to(device))"
   ]
  },
  {
   "cell_type": "code",
   "execution_count": 20,
   "metadata": {},
   "outputs": [],
   "source": [
    "from sklearn.metrics import accuracy_score, f1_score\n",
    "\n",
    "def compute_metrics(pred):\n",
    "    labels = pred.label_ids\n",
    "    preds = pred.predictions.argmax(-1)\n",
    "    f1 = f1_score(labels, preds, average=\"weighted\")\n",
    "    acc = accuracy_score(labels, preds)\n",
    "    return {\"accuracy\": acc, \"f1\": f1}"
   ]
  },
  {
   "cell_type": "code",
   "execution_count": 21,
   "metadata": {},
   "outputs": [
    {
     "name": "stderr",
     "output_type": "stream",
     "text": [
      "c:\\Users\\Louis\\anaconda3\\envs\\contest2\\lib\\site-packages\\transformers\\optimization.py:306: FutureWarning: This implementation of AdamW is deprecated and will be removed in a future version. Use the PyTorch implementation torch.optim.AdamW instead, or set `no_deprecation_warning=True` to disable this warning\n",
      "  warnings.warn(\n",
      " 50%|█████     | 690/1380 [01:43<01:29,  7.68it/s]"
     ]
    },
    {
     "name": "stdout",
     "output_type": "stream",
     "text": [
      "{'loss': 0.6357, 'learning_rate': 1.0014492753623189e-05, 'epoch': 1.0}\n"
     ]
    },
    {
     "name": "stderr",
     "output_type": "stream",
     "text": [
      "                                                  \n",
      " 50%|█████     | 691/1380 [02:41<3:21:39, 17.56s/it]"
     ]
    },
    {
     "name": "stdout",
     "output_type": "stream",
     "text": [
      "{'eval_loss': 0.14363586902618408, 'eval_accuracy': 0.9226075786769429, 'eval_f1': 0.94472333371539, 'eval_runtime': 58.1009, 'eval_samples_per_second': 53.596, 'eval_steps_per_second': 26.798, 'epoch': 1.0}\n"
     ]
    },
    {
     "name": "stderr",
     "output_type": "stream",
     "text": [
      "100%|█████████▉| 1379/1380 [04:23<00:00,  6.96it/s] "
     ]
    },
    {
     "name": "stdout",
     "output_type": "stream",
     "text": [
      "{'loss': 0.3719, 'learning_rate': 2.8985507246376815e-08, 'epoch': 2.0}\n"
     ]
    },
    {
     "name": "stderr",
     "output_type": "stream",
     "text": [
      "                                                   \n",
      "100%|██████████| 1380/1380 [05:20<00:00,  4.30it/s]\n",
      "c:\\Users\\Louis\\anaconda3\\envs\\contest2\\lib\\site-packages\\transformers\\optimization.py:306: FutureWarning: This implementation of AdamW is deprecated and will be removed in a future version. Use the PyTorch implementation torch.optim.AdamW instead, or set `no_deprecation_warning=True` to disable this warning\n",
      "  warnings.warn(\n"
     ]
    },
    {
     "name": "stdout",
     "output_type": "stream",
     "text": [
      "{'eval_loss': 0.1531176120042801, 'eval_accuracy': 0.9656390494540783, 'eval_f1': 0.970658302159613, 'eval_runtime': 57.1001, 'eval_samples_per_second': 54.536, 'eval_steps_per_second': 27.268, 'epoch': 2.0}\n",
      "{'train_runtime': 320.7004, 'train_samples_per_second': 8.6, 'train_steps_per_second': 4.303, 'train_loss': 0.5049267834511356, 'epoch': 2.0}\n"
     ]
    },
    {
     "name": "stderr",
     "output_type": "stream",
     "text": [
      " 50%|████▉     | 689/1380 [01:41<01:37,  7.06it/s]"
     ]
    },
    {
     "name": "stdout",
     "output_type": "stream",
     "text": [
      "{'loss': 0.3947, 'learning_rate': 1.0014492753623189e-05, 'epoch': 1.0}\n"
     ]
    },
    {
     "name": "stderr",
     "output_type": "stream",
     "text": [
      "                                                  \n",
      " 50%|█████     | 691/1380 [02:39<2:34:34, 13.46s/it]"
     ]
    },
    {
     "name": "stdout",
     "output_type": "stream",
     "text": [
      "{'eval_loss': 0.6278432607650757, 'eval_accuracy': 0.9014129736673089, 'eval_f1': 0.9006519836244696, 'eval_runtime': 57.7715, 'eval_samples_per_second': 53.902, 'eval_steps_per_second': 26.951, 'epoch': 1.0}\n"
     ]
    },
    {
     "name": "stderr",
     "output_type": "stream",
     "text": [
      "100%|█████████▉| 1379/1380 [04:20<00:00,  7.02it/s] "
     ]
    },
    {
     "name": "stdout",
     "output_type": "stream",
     "text": [
      "{'loss': 0.1285, 'learning_rate': 2.8985507246376815e-08, 'epoch': 2.0}\n"
     ]
    },
    {
     "name": "stderr",
     "output_type": "stream",
     "text": [
      "                                                   \n",
      "100%|██████████| 1380/1380 [05:20<00:00,  4.31it/s]\n",
      "c:\\Users\\Louis\\anaconda3\\envs\\contest2\\lib\\site-packages\\transformers\\optimization.py:306: FutureWarning: This implementation of AdamW is deprecated and will be removed in a future version. Use the PyTorch implementation torch.optim.AdamW instead, or set `no_deprecation_warning=True` to disable this warning\n",
      "  warnings.warn(\n"
     ]
    },
    {
     "name": "stdout",
     "output_type": "stream",
     "text": [
      "{'eval_loss': 0.42379048466682434, 'eval_accuracy': 0.9360950545921645, 'eval_f1': 0.9359497646246987, 'eval_runtime': 59.2285, 'eval_samples_per_second': 52.576, 'eval_steps_per_second': 26.288, 'epoch': 2.0}\n",
      "{'train_runtime': 320.1391, 'train_samples_per_second': 8.615, 'train_steps_per_second': 4.311, 'train_loss': 0.2612327782421177, 'epoch': 2.0}\n"
     ]
    },
    {
     "name": "stderr",
     "output_type": "stream",
     "text": [
      " 50%|█████     | 690/1380 [01:40<01:30,  7.60it/s]"
     ]
    },
    {
     "name": "stdout",
     "output_type": "stream",
     "text": [
      "{'loss': 0.5429, 'learning_rate': 1.0014492753623189e-05, 'epoch': 1.0}\n"
     ]
    },
    {
     "name": "stderr",
     "output_type": "stream",
     "text": [
      "                                                  \n",
      " 50%|█████     | 691/1380 [02:37<3:15:59, 17.07s/it]"
     ]
    },
    {
     "name": "stdout",
     "output_type": "stream",
     "text": [
      "{'eval_loss': 0.13693083822727203, 'eval_accuracy': 0.9698137443802184, 'eval_f1': 0.9701905496073568, 'eval_runtime': 56.4528, 'eval_samples_per_second': 55.161, 'eval_steps_per_second': 27.581, 'epoch': 1.0}\n"
     ]
    },
    {
     "name": "stderr",
     "output_type": "stream",
     "text": [
      "100%|█████████▉| 1379/1380 [04:17<00:00,  6.46it/s] "
     ]
    },
    {
     "name": "stdout",
     "output_type": "stream",
     "text": [
      "{'loss': 0.3, 'learning_rate': 2.8985507246376815e-08, 'epoch': 2.0}\n"
     ]
    },
    {
     "name": "stderr",
     "output_type": "stream",
     "text": [
      "                                                   \n",
      "100%|██████████| 1380/1380 [05:14<00:00,  4.38it/s]\n",
      "c:\\Users\\Louis\\anaconda3\\envs\\contest2\\lib\\site-packages\\transformers\\optimization.py:306: FutureWarning: This implementation of AdamW is deprecated and will be removed in a future version. Use the PyTorch implementation torch.optim.AdamW instead, or set `no_deprecation_warning=True` to disable this warning\n",
      "  warnings.warn(\n"
     ]
    },
    {
     "name": "stdout",
     "output_type": "stream",
     "text": [
      "{'eval_loss': 0.15317554771900177, 'eval_accuracy': 0.9717405266538215, 'eval_f1': 0.9720069437194279, 'eval_runtime': 57.2557, 'eval_samples_per_second': 54.388, 'eval_steps_per_second': 27.194, 'epoch': 2.0}\n",
      "{'train_runtime': 314.901, 'train_samples_per_second': 8.758, 'train_steps_per_second': 4.382, 'train_loss': 0.4223511865173561, 'epoch': 2.0}\n"
     ]
    },
    {
     "name": "stderr",
     "output_type": "stream",
     "text": [
      " 50%|████▉     | 689/1380 [01:41<01:37,  7.08it/s]"
     ]
    },
    {
     "name": "stdout",
     "output_type": "stream",
     "text": [
      "{'loss': 0.5923, 'learning_rate': 1.0014492753623189e-05, 'epoch': 1.0}\n"
     ]
    },
    {
     "name": "stderr",
     "output_type": "stream",
     "text": [
      "                                                  \n",
      " 50%|█████     | 691/1380 [02:38<2:32:04, 13.24s/it]"
     ]
    },
    {
     "name": "stdout",
     "output_type": "stream",
     "text": [
      "{'eval_loss': 0.10072899609804153, 'eval_accuracy': 0.9733461785484907, 'eval_f1': 0.9733195807398386, 'eval_runtime': 56.8313, 'eval_samples_per_second': 54.794, 'eval_steps_per_second': 27.397, 'epoch': 1.0}\n"
     ]
    },
    {
     "name": "stderr",
     "output_type": "stream",
     "text": [
      "100%|█████████▉| 1379/1380 [04:17<00:00,  7.05it/s] "
     ]
    },
    {
     "name": "stdout",
     "output_type": "stream",
     "text": [
      "{'loss': 0.2787, 'learning_rate': 2.8985507246376815e-08, 'epoch': 2.0}\n"
     ]
    },
    {
     "name": "stderr",
     "output_type": "stream",
     "text": [
      "                                                   \n",
      "100%|██████████| 1380/1380 [05:14<00:00,  4.39it/s]\n",
      "c:\\Users\\Louis\\anaconda3\\envs\\contest2\\lib\\site-packages\\transformers\\optimization.py:306: FutureWarning: This implementation of AdamW is deprecated and will be removed in a future version. Use the PyTorch implementation torch.optim.AdamW instead, or set `no_deprecation_warning=True` to disable this warning\n",
      "  warnings.warn(\n"
     ]
    },
    {
     "name": "stdout",
     "output_type": "stream",
     "text": [
      "{'eval_loss': 0.148297518491745, 'eval_accuracy': 0.9739884393063584, 'eval_f1': 0.9722853067217005, 'eval_runtime': 56.4476, 'eval_samples_per_second': 55.166, 'eval_steps_per_second': 27.583, 'epoch': 2.0}\n",
      "{'train_runtime': 314.1925, 'train_samples_per_second': 8.778, 'train_steps_per_second': 4.392, 'train_loss': 0.4348440366463088, 'epoch': 2.0}\n"
     ]
    },
    {
     "name": "stderr",
     "output_type": "stream",
     "text": [
      " 50%|████▉     | 689/1380 [01:40<01:37,  7.10it/s]"
     ]
    },
    {
     "name": "stdout",
     "output_type": "stream",
     "text": [
      "{'loss': 0.096, 'learning_rate': 1.0014492753623189e-05, 'epoch': 1.0}\n"
     ]
    },
    {
     "name": "stderr",
     "output_type": "stream",
     "text": [
      "\n",
      " 50%|█████     | 691/1380 [02:38<2:33:24, 13.36s/it]"
     ]
    },
    {
     "name": "stdout",
     "output_type": "stream",
     "text": [
      "{'eval_loss': 0.0032598006073385477, 'eval_accuracy': 0.9996788696210661, 'eval_f1': 0.9996787754706961, 'eval_runtime': 57.3299, 'eval_samples_per_second': 54.317, 'eval_steps_per_second': 27.159, 'epoch': 1.0}\n"
     ]
    },
    {
     "name": "stderr",
     "output_type": "stream",
     "text": [
      "100%|█████████▉| 1379/1380 [04:17<00:00,  7.07it/s] "
     ]
    },
    {
     "name": "stdout",
     "output_type": "stream",
     "text": [
      "{'loss': 0.0001, 'learning_rate': 2.8985507246376815e-08, 'epoch': 2.0}\n"
     ]
    },
    {
     "name": "stderr",
     "output_type": "stream",
     "text": [
      "                                                   \n",
      "100%|██████████| 1380/1380 [05:15<00:00,  4.38it/s]\n",
      "c:\\Users\\Louis\\anaconda3\\envs\\contest2\\lib\\site-packages\\transformers\\optimization.py:306: FutureWarning: This implementation of AdamW is deprecated and will be removed in a future version. Use the PyTorch implementation torch.optim.AdamW instead, or set `no_deprecation_warning=True` to disable this warning\n",
      "  warnings.warn(\n"
     ]
    },
    {
     "name": "stdout",
     "output_type": "stream",
     "text": [
      "{'eval_loss': 0.003381465096026659, 'eval_accuracy': 0.9996788696210661, 'eval_f1': 0.9996787754706961, 'eval_runtime': 57.739, 'eval_samples_per_second': 53.932, 'eval_steps_per_second': 26.966, 'epoch': 2.0}\n",
      "{'train_runtime': 315.3328, 'train_samples_per_second': 8.746, 'train_steps_per_second': 4.376, 'train_loss': 0.04795182902103145, 'epoch': 2.0}\n"
     ]
    },
    {
     "name": "stderr",
     "output_type": "stream",
     "text": [
      " 50%|████▉     | 689/1380 [01:40<01:37,  7.11it/s]"
     ]
    },
    {
     "name": "stdout",
     "output_type": "stream",
     "text": [
      "{'loss': 0.5307, 'learning_rate': 1.0014492753623189e-05, 'epoch': 1.0}\n"
     ]
    },
    {
     "name": "stderr",
     "output_type": "stream",
     "text": [
      "                                                  \n",
      " 50%|█████     | 691/1380 [02:36<2:30:40, 13.12s/it]"
     ]
    },
    {
     "name": "stdout",
     "output_type": "stream",
     "text": [
      "{'eval_loss': 0.22339066863059998, 'eval_accuracy': 0.9592164418754014, 'eval_f1': 0.9678301208008926, 'eval_runtime': 56.2951, 'eval_samples_per_second': 55.316, 'eval_steps_per_second': 27.658, 'epoch': 1.0}\n"
     ]
    },
    {
     "name": "stderr",
     "output_type": "stream",
     "text": [
      "100%|█████████▉| 1379/1380 [04:19<00:00,  7.02it/s] "
     ]
    },
    {
     "name": "stdout",
     "output_type": "stream",
     "text": [
      "{'loss': 0.1725, 'learning_rate': 2.8985507246376815e-08, 'epoch': 2.0}\n"
     ]
    },
    {
     "name": "stderr",
     "output_type": "stream",
     "text": [
      "                                                   \n",
      "100%|██████████| 1380/1380 [05:15<00:00,  4.37it/s]\n",
      "c:\\Users\\Louis\\anaconda3\\envs\\contest2\\lib\\site-packages\\transformers\\optimization.py:306: FutureWarning: This implementation of AdamW is deprecated and will be removed in a future version. Use the PyTorch implementation torch.optim.AdamW instead, or set `no_deprecation_warning=True` to disable this warning\n",
      "  warnings.warn(\n"
     ]
    },
    {
     "name": "stdout",
     "output_type": "stream",
     "text": [
      "{'eval_loss': 0.08561436831951141, 'eval_accuracy': 0.9839434810533076, 'eval_f1': 0.9857664409349395, 'eval_runtime': 56.5131, 'eval_samples_per_second': 55.102, 'eval_steps_per_second': 27.551, 'epoch': 2.0}\n",
      "{'train_runtime': 315.9476, 'train_samples_per_second': 8.729, 'train_steps_per_second': 4.368, 'train_loss': 0.35112606041543387, 'epoch': 2.0}\n"
     ]
    },
    {
     "name": "stderr",
     "output_type": "stream",
     "text": [
      " 50%|█████     | 690/1380 [01:39<01:28,  7.82it/s]"
     ]
    },
    {
     "name": "stdout",
     "output_type": "stream",
     "text": [
      "{'loss': 0.6785, 'learning_rate': 1.0014492753623189e-05, 'epoch': 1.0}\n"
     ]
    },
    {
     "name": "stderr",
     "output_type": "stream",
     "text": [
      "                                                  \n",
      " 50%|█████     | 691/1380 [02:36<3:18:31, 17.29s/it]"
     ]
    },
    {
     "name": "stdout",
     "output_type": "stream",
     "text": [
      "{'eval_loss': 0.4760203957557678, 'eval_accuracy': 0.8754014129736674, 'eval_f1': 0.8172411821117183, 'eval_runtime': 57.1921, 'eval_samples_per_second': 54.448, 'eval_steps_per_second': 27.224, 'epoch': 1.0}\n"
     ]
    },
    {
     "name": "stderr",
     "output_type": "stream",
     "text": [
      "100%|█████████▉| 1379/1380 [04:15<00:00,  7.06it/s] "
     ]
    },
    {
     "name": "stdout",
     "output_type": "stream",
     "text": [
      "{'loss': 0.4357, 'learning_rate': 2.8985507246376815e-08, 'epoch': 2.0}\n"
     ]
    },
    {
     "name": "stderr",
     "output_type": "stream",
     "text": [
      "                                                   \n",
      "100%|██████████| 1380/1380 [05:11<00:00,  4.43it/s]"
     ]
    },
    {
     "name": "stdout",
     "output_type": "stream",
     "text": [
      "{'eval_loss': 0.40316081047058105, 'eval_accuracy': 0.9219653179190751, 'eval_f1': 0.9138711859636608, 'eval_runtime': 56.2808, 'eval_samples_per_second': 55.33, 'eval_steps_per_second': 27.665, 'epoch': 2.0}\n",
      "{'train_runtime': 311.5283, 'train_samples_per_second': 8.853, 'train_steps_per_second': 4.43, 'train_loss': 0.5567722523989884, 'epoch': 2.0}\n"
     ]
    },
    {
     "name": "stderr",
     "output_type": "stream",
     "text": [
      "\n"
     ]
    }
   ],
   "source": [
    "from transformers import Trainer, TrainingArguments\n",
    "\n",
    "\n",
    "for d in dep:\n",
    "    batch_size = 2 #Needs to be bigger?\n",
    "    logging_steps = len(enc[d][\"train\"]) // batch_size\n",
    "    #CHECK output_dir meaning, have I messed up?\n",
    "    model_name = f\"{model_ckpt}-{d}-197-batchsize{batch_size}\"\n",
    "    training_args = TrainingArguments(output_dir=model_name,\n",
    "                                    num_train_epochs=2,\n",
    "                                    learning_rate=2e-5,\n",
    "                                    per_device_train_batch_size=batch_size,\n",
    "                                    per_device_eval_batch_size=batch_size,\n",
    "                                    weight_decay=0.01,\n",
    "                                    evaluation_strategy=\"epoch\",\n",
    "                                    disable_tqdm=False,\n",
    "                                    logging_steps=logging_steps,\n",
    "                                    push_to_hub=False,\n",
    "                                    log_level=\"error\") #optim=\"adamw_torch\"??  Use the PyTorch implementation torch.optim.AdamW instead, or set `no_deprecation_warning=True` to disable this warning\n",
    "\n",
    "    trainer = Trainer(model=model, args=training_args,\n",
    "                    compute_metrics=compute_metrics,\n",
    "                    train_dataset=enc[d][\"train\"],\n",
    "                    eval_dataset=enc[d][\"validation\"],\n",
    "                    tokenizer=tokenizer)\n",
    "    trainer.train();"
   ]
  },
  {
   "cell_type": "code",
   "execution_count": 23,
   "metadata": {},
   "outputs": [],
   "source": [
    "preds_output = {}"
   ]
  },
  {
   "cell_type": "code",
   "execution_count": 25,
   "metadata": {},
   "outputs": [],
   "source": [
    "model = AutoModelForSequenceClassification.from_pretrained(\"roberta-base-Cardiology-197-batchsize2/checkpoint-1000\")"
   ]
  },
  {
   "cell_type": "code",
   "execution_count": 29,
   "metadata": {},
   "outputs": [],
   "source": [
    "import numpy as np"
   ]
  },
  {
   "cell_type": "code",
   "execution_count": 35,
   "metadata": {},
   "outputs": [],
   "source": [
    "p =  Trainer(model)"
   ]
  },
  {
   "cell_type": "code",
   "execution_count": 36,
   "metadata": {},
   "outputs": [
    {
     "name": "stderr",
     "output_type": "stream",
     "text": [
      "The following columns in the test set don't have a corresponding argument in `RobertaForSequenceClassification.forward` and have been ignored: text. If text are not expected by `RobertaForSequenceClassification.forward`,  you can safely ignore this message.\n",
      "***** Running Prediction *****\n",
      "  Num examples = 3114\n",
      "  Batch size = 8\n"
     ]
    }
   ],
   "source": [
    "pred = p.predict(enc['Cardiology']['validation'])"
   ]
  },
  {
   "cell_type": "code",
   "execution_count": 40,
   "metadata": {},
   "outputs": [
    {
     "data": {
      "image/png": "[encoded data removed]",
      "text/plain": [
       "<Figure size 600x600 with 1 Axes>"
      ]
     },
     "metadata": {},
     "output_type": "display_data"
    }
   ],
   "source": [
    "import numpy as np\n",
    "import matplotlib.pyplot as plt\n",
    "y_preds = np.argmax(pred.predictions, axis=1)\n",
    "from sklearn.metrics import ConfusionMatrixDisplay, confusion_matrix\n",
    "\n",
    "def plot_confusion_matrix(y_preds, y_true, labels):\n",
    "    cm = confusion_matrix(y_true, y_preds, normalize='true')\n",
    "    fig, ax = plt.subplots(figsize=(6, 6))\n",
    "    disp = ConfusionMatrixDisplay(confusion_matrix=cm, display_labels=labels)\n",
    "    disp.plot(cmap=\"Blues\", values_format=\".2f\", ax=ax, colorbar=False)\n",
    "    plt.title(\"Normalized confusion matrix\")\n",
    "    plt.show()\n",
    "\n",
    "y_valid = np.array(enc['Cardiology']['validation']['label'])\n",
    "labels = enc['Cardiology'][\"train\"].features[\"label\"].names\n",
    "plot_confusion_matrix(y_preds, y_valid, labels)\n"
   ]
  }
 ],
 "metadata": {
  "kernelspec": {
   "display_name": "contest2",
   "language": "python",
   "name": "python3"
  },
  "language_info": {
   "codemirror_mode": {
    "name": "ipython",
    "version": 3
   },
   "file_extension": ".py",
   "mimetype": "text/x-python",
   "name": "python",
   "nbconvert_exporter": "python",
   "pygments_lexer": "ipython3",
   "version": "3.9.16"
  },
  "orig_nbformat": 4
 },
 "nbformat": 4,
 "nbformat_minor": 2
}
